{
 "cells": [
  {
   "cell_type": "code",
   "execution_count": 1,
   "metadata": {},
   "outputs": [],
   "source": [
    "# Library\n",
    "import pandas as pd\n",
    "import os\n",
    "import pickle\n",
    "import zipfile\n"
   ]
  },
  {
   "cell_type": "code",
   "execution_count": 2,
   "metadata": {},
   "outputs": [],
   "source": [
    "#Unzip Data\n",
    "# with zipfile.ZipFile('Data.zip', 'r') as myzip:\n",
    "#     myzip.extractall('Data')"
   ]
  },
  {
   "cell_type": "markdown",
   "metadata": {},
   "source": [
    "\n",
    "## Save All Sheets to a Dictionary DF"
   ]
  },
  {
   "cell_type": "code",
   "execution_count": 3,
   "metadata": {},
   "outputs": [],
   "source": [
    "# create a dictionry --> key: Sheet Names , value: Sheet Values(df)\n",
    "data_files= [file for file in os.listdir(\"Data\") if file.endswith(\".xlsx\")]\n",
    "df_dic={}\n",
    "for file_name in data_files:\n",
    "    exl_file = pd.ExcelFile(\"Data/\" + file_name)\n",
    "    for sheet_name in exl_file.sheet_names:\n",
    "        df_dic[sheet_name] = pd.read_excel(exl_file , sheet_name=sheet_name)"
   ]
  },
  {
   "cell_type": "markdown",
   "metadata": {},
   "source": [
    "با توجه به این که اجرای کد بالا زمان بر است برای راحتی متغیر ایجاد شده را در یک فایل پیکل ذخیره می کنیم "
   ]
  },
  {
   "cell_type": "code",
   "execution_count": 4,
   "metadata": {},
   "outputs": [],
   "source": [
    "# Open a file and use dump() \n",
    "with open('df_dic.pkl', 'wb') as file: \n",
    "      \n",
    "    # A new file will be created \n",
    "    pickle.dump(df_dic, file)    "
   ]
  },
  {
   "cell_type": "code",
   "execution_count": 5,
   "metadata": {},
   "outputs": [],
   "source": [
    "# Create a new ZIP file\n",
    "with zipfile.ZipFile('df_dic.zip', 'w') as myzip:\n",
    "    myzip.write('df_dic.pkl')"
   ]
  },
  {
   "cell_type": "code",
   "execution_count": 6,
   "metadata": {},
   "outputs": [],
   "source": [
    "# Open the file in binary mode \n",
    "with open('df_dic.pkl', 'rb') as file: \n",
    "     \n",
    "    # Call load method to deserialze \n",
    "    df_dic = pickle.load(file) "
   ]
  }
 ],
 "metadata": {
  "kernelspec": {
   "display_name": "base",
   "language": "python",
   "name": "python3"
  },
  "language_info": {
   "codemirror_mode": {
    "name": "ipython",
    "version": 3
   },
   "file_extension": ".py",
   "mimetype": "text/x-python",
   "name": "python",
   "nbconvert_exporter": "python",
   "pygments_lexer": "ipython3",
   "version": "3.11.7"
  }
 },
 "nbformat": 4,
 "nbformat_minor": 2
}
