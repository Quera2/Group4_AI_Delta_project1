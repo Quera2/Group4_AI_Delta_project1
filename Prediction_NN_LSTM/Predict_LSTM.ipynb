{
 "cells": [
  {
   "cell_type": "code",
   "execution_count": 84,
   "metadata": {},
   "outputs": [
    {
     "name": "stderr",
     "output_type": "stream",
     "text": [
      "[nltk_data] Downloading package stopwords to\n",
      "[nltk_data]     C:\\Users\\khosh\\AppData\\Roaming\\nltk_data...\n",
      "[nltk_data]   Package stopwords is already up-to-date!\n",
      "[nltk_data] Downloading package wordnet to\n",
      "[nltk_data]     C:\\Users\\khosh\\AppData\\Roaming\\nltk_data...\n",
      "[nltk_data]   Package wordnet is already up-to-date!\n"
     ]
    }
   ],
   "source": [
    "# imports necessary for preprocessing\n",
    "import pandas as pd\n",
    "import numpy as np\n",
    "from pathlib import Path\n",
    "from sklearn.preprocessing import StandardScaler\n",
    "from sklearn.model_selection import train_test_split\n",
    "from sklearn.metrics import r2_score\n",
    "import matplotlib.pyplot as plt\n",
    "%matplotlib inline\n",
    "\n",
    "from sklearn.feature_extraction.text import CountVectorizer\n",
    "import re\n",
    "\n",
    "# Code to download corpora\n",
    "import nltk\n",
    "nltk.download('stopwords')\n",
    "nltk.download('wordnet')\n",
    "\n",
    "# Imports to create Neural Net and metrics associated\n",
    "from sklearn.preprocessing import MinMaxScaler\n",
    "from sklearn.metrics import mean_squared_error\n",
    "from tensorflow.keras.models import Sequential\n",
    "from tensorflow.keras.layers import Dense\n",
    "import random\n",
    "import tensorflow as tf"
   ]
  },
  {
   "cell_type": "markdown",
   "metadata": {},
   "source": [
    "# Preprocessing"
   ]
  },
  {
   "cell_type": "code",
   "execution_count": 85,
   "metadata": {},
   "outputs": [
    {
     "data": {
      "text/html": [
       "<div>\n",
       "<style scoped>\n",
       "    .dataframe tbody tr th:only-of-type {\n",
       "        vertical-align: middle;\n",
       "    }\n",
       "\n",
       "    .dataframe tbody tr th {\n",
       "        vertical-align: top;\n",
       "    }\n",
       "\n",
       "    .dataframe thead th {\n",
       "        text-align: right;\n",
       "    }\n",
       "</style>\n",
       "<table border=\"1\" class=\"dataframe\">\n",
       "  <thead>\n",
       "    <tr style=\"text-align: right;\">\n",
       "      <th></th>\n",
       "      <th>Address</th>\n",
       "      <th>Cost_S01</th>\n",
       "      <th>Cost_S02</th>\n",
       "      <th>Cost_S03</th>\n",
       "      <th>Cost_S04</th>\n",
       "      <th>Cost_S05</th>\n",
       "      <th>Cost_S06</th>\n",
       "      <th>Cost_S07</th>\n",
       "      <th>Cost_S08</th>\n",
       "      <th>Cost_S09</th>\n",
       "      <th>...</th>\n",
       "      <th>province_Yazd</th>\n",
       "      <th>province_Zanjan</th>\n",
       "      <th>tenure_0</th>\n",
       "      <th>tenure_Free</th>\n",
       "      <th>tenure_Mortgage</th>\n",
       "      <th>tenure_Other</th>\n",
       "      <th>tenure_OwnedEstate</th>\n",
       "      <th>tenure_OwnedEstateLand</th>\n",
       "      <th>tenure_Rent</th>\n",
       "      <th>tenure_Service</th>\n",
       "    </tr>\n",
       "  </thead>\n",
       "  <tbody>\n",
       "    <tr>\n",
       "      <th>0</th>\n",
       "      <td>10001000108</td>\n",
       "      <td>13424000.0</td>\n",
       "      <td>630000.0</td>\n",
       "      <td>2250000.0</td>\n",
       "      <td>9012000.0</td>\n",
       "      <td>2577000.0</td>\n",
       "      <td>0.0</td>\n",
       "      <td>420000.0</td>\n",
       "      <td>520000.0</td>\n",
       "      <td>0.0</td>\n",
       "      <td>...</td>\n",
       "      <td>False</td>\n",
       "      <td>False</td>\n",
       "      <td>False</td>\n",
       "      <td>False</td>\n",
       "      <td>False</td>\n",
       "      <td>False</td>\n",
       "      <td>False</td>\n",
       "      <td>True</td>\n",
       "      <td>False</td>\n",
       "      <td>False</td>\n",
       "    </tr>\n",
       "  </tbody>\n",
       "</table>\n",
       "<p>1 rows × 120 columns</p>\n",
       "</div>"
      ],
      "text/plain": [
       "       Address    Cost_S01  Cost_S02   Cost_S03   Cost_S04   Cost_S05  \\\n",
       "0  10001000108  13424000.0  630000.0  2250000.0  9012000.0  2577000.0   \n",
       "\n",
       "   Cost_S06  Cost_S07  Cost_S08  Cost_S09  ...  province_Yazd  \\\n",
       "0       0.0  420000.0  520000.0       0.0  ...          False   \n",
       "\n",
       "   province_Zanjan  tenure_0  tenure_Free  tenure_Mortgage  tenure_Other  \\\n",
       "0            False     False        False            False         False   \n",
       "\n",
       "   tenure_OwnedEstate  tenure_OwnedEstateLand  tenure_Rent  tenure_Service  \n",
       "0               False                    True        False           False  \n",
       "\n",
       "[1 rows x 120 columns]"
      ]
     },
     "execution_count": 85,
     "metadata": {},
     "output_type": "execute_result"
    }
   ],
   "source": [
    "# Load data\n",
    "df= pd.read_csv(\"f2data.csv\")\n",
    "df.head(1)"
   ]
  },
  {
   "cell_type": "code",
   "execution_count": 86,
   "metadata": {},
   "outputs": [
    {
     "name": "stdout",
     "output_type": "stream",
     "text": [
      "<class 'pandas.core.frame.DataFrame'>\n",
      "RangeIndex: 113150 entries, 0 to 113149\n",
      "Columns: 120 entries, Address to tenure_Service\n",
      "dtypes: bool(42), float64(76), int64(2)\n",
      "memory usage: 71.9 MB\n"
     ]
    }
   ],
   "source": [
    "# check the basic information of the data set, dtypes, null values, column names\n",
    "df.info()"
   ]
  },
  {
   "cell_type": "code",
   "execution_count": 87,
   "metadata": {},
   "outputs": [],
   "source": [
    "# # use get dummies to turn the category columns into number columns\n",
    "# encoded_df = pd.get_dummies(df)\n",
    "# encoded_df = encoded_df.drop('Address',axis=1)\n",
    "# encoded_df.head()"
   ]
  },
  {
   "cell_type": "markdown",
   "metadata": {},
   "source": [
    "# Assemble Neural Network (LSTM)"
   ]
  },
  {
   "cell_type": "code",
   "execution_count": 88,
   "metadata": {},
   "outputs": [
    {
     "name": "stdout",
     "output_type": "stream",
     "text": [
      "X_train shape (106139, 119)\n",
      "X_test shape (7011, 119)\n",
      "y_train shape (106139, 1)\n",
      "y_test shape (7011, 1)\n"
     ]
    }
   ],
   "source": [
    "# Split Train and Test Data\n",
    "df_train = df[~((df['Fasl']==4) & (df['year']==1401))]\n",
    "df_test = df[(df['Fasl']==4) & (df['year']==1401)]\n",
    "\n",
    "\n",
    "# split the dataset into X and y\n",
    "X_train= df_train.drop(columns = [\"Cost_S07\"])\n",
    "X_test=  df_test.drop(columns = [\"Cost_S07\"])\n",
    "y_train =  df_train[\"Cost_S07\"].values.reshape(-1,1)\n",
    "y_test = df_test[\"Cost_S07\"].values.reshape(-1,1)\n",
    "\n",
    "# look at the shape of each data set\n",
    "print(\"X_train shape\" ,X_train.shape)\n",
    "print(\"X_test shape\" ,X_test.shape)\n",
    "print(\"y_train shape\" ,y_train.shape)\n",
    "print(\"y_test shape\" ,y_test.shape)\n",
    "\n"
   ]
  },
  {
   "cell_type": "code",
   "execution_count": 89,
   "metadata": {},
   "outputs": [],
   "source": [
    "# use MinMaxScaler to scale the date\n",
    "x_scaler = MinMaxScaler()\n",
    "y_scaler = MinMaxScaler()\n",
    "\n",
    "# scale the training data\n",
    "x_scaler.fit(X_train)\n",
    "y_scaler.fit(y_train)\n",
    "X_train_scaled = x_scaler.transform(X_train)\n",
    "X_test_scaled = x_scaler.transform(X_test)\n",
    "y_train_scaled = y_scaler.transform(y_train)\n",
    "y_test_scaled =y_scaler.transform(y_test)"
   ]
  },
  {
   "cell_type": "code",
   "execution_count": 90,
   "metadata": {},
   "outputs": [],
   "source": [
    "# This will act as a random state variable....it might not be exact but it will be close to previous run\n",
    "seed_value = 0\n",
    "random.seed(seed_value)\n",
    "np.random.seed(seed_value)\n",
    "tf.random.set_seed(seed_value)"
   ]
  },
  {
   "cell_type": "code",
   "execution_count": 91,
   "metadata": {},
   "outputs": [
    {
     "name": "stderr",
     "output_type": "stream",
     "text": [
      "c:\\Users\\khosh\\anaconda3\\Lib\\site-packages\\keras\\src\\layers\\core\\dense.py:87: UserWarning: Do not pass an `input_shape`/`input_dim` argument to a layer. When using Sequential models, prefer using an `Input(shape)` object as the first layer in the model instead.\n",
      "  super().__init__(activity_regularizer=activity_regularizer, **kwargs)\n"
     ]
    },
    {
     "data": {
      "text/html": [
       "<pre style=\"white-space:pre;overflow-x:auto;line-height:normal;font-family:Menlo,'DejaVu Sans Mono',consolas,'Courier New',monospace\"><span style=\"font-weight: bold\">Model: \"sequential_4\"</span>\n",
       "</pre>\n"
      ],
      "text/plain": [
       "\u001b[1mModel: \"sequential_4\"\u001b[0m\n"
      ]
     },
     "metadata": {},
     "output_type": "display_data"
    },
    {
     "data": {
      "text/html": [
       "<pre style=\"white-space:pre;overflow-x:auto;line-height:normal;font-family:Menlo,'DejaVu Sans Mono',consolas,'Courier New',monospace\">┏━━━━━━━━━━━━━━━━━━━━━━━━━━━━━━━━━┳━━━━━━━━━━━━━━━━━━━━━━━━┳━━━━━━━━━━━━━━━┓\n",
       "┃<span style=\"font-weight: bold\"> Layer (type)                    </span>┃<span style=\"font-weight: bold\"> Output Shape           </span>┃<span style=\"font-weight: bold\">       Param # </span>┃\n",
       "┡━━━━━━━━━━━━━━━━━━━━━━━━━━━━━━━━━╇━━━━━━━━━━━━━━━━━━━━━━━━╇━━━━━━━━━━━━━━━┩\n",
       "│ dense_16 (<span style=\"color: #0087ff; text-decoration-color: #0087ff\">Dense</span>)                │ (<span style=\"color: #00d7ff; text-decoration-color: #00d7ff\">None</span>, <span style=\"color: #00af00; text-decoration-color: #00af00\">119</span>)            │        <span style=\"color: #00af00; text-decoration-color: #00af00\">14,280</span> │\n",
       "├─────────────────────────────────┼────────────────────────┼───────────────┤\n",
       "│ dense_17 (<span style=\"color: #0087ff; text-decoration-color: #0087ff\">Dense</span>)                │ (<span style=\"color: #00d7ff; text-decoration-color: #00d7ff\">None</span>, <span style=\"color: #00af00; text-decoration-color: #00af00\">238</span>)            │        <span style=\"color: #00af00; text-decoration-color: #00af00\">28,560</span> │\n",
       "├─────────────────────────────────┼────────────────────────┼───────────────┤\n",
       "│ dense_18 (<span style=\"color: #0087ff; text-decoration-color: #0087ff\">Dense</span>)                │ (<span style=\"color: #00d7ff; text-decoration-color: #00d7ff\">None</span>, <span style=\"color: #00af00; text-decoration-color: #00af00\">238</span>)            │        <span style=\"color: #00af00; text-decoration-color: #00af00\">56,882</span> │\n",
       "├─────────────────────────────────┼────────────────────────┼───────────────┤\n",
       "│ dense_19 (<span style=\"color: #0087ff; text-decoration-color: #0087ff\">Dense</span>)                │ (<span style=\"color: #00d7ff; text-decoration-color: #00d7ff\">None</span>, <span style=\"color: #00af00; text-decoration-color: #00af00\">1</span>)              │           <span style=\"color: #00af00; text-decoration-color: #00af00\">239</span> │\n",
       "└─────────────────────────────────┴────────────────────────┴───────────────┘\n",
       "</pre>\n"
      ],
      "text/plain": [
       "┏━━━━━━━━━━━━━━━━━━━━━━━━━━━━━━━━━┳━━━━━━━━━━━━━━━━━━━━━━━━┳━━━━━━━━━━━━━━━┓\n",
       "┃\u001b[1m \u001b[0m\u001b[1mLayer (type)                   \u001b[0m\u001b[1m \u001b[0m┃\u001b[1m \u001b[0m\u001b[1mOutput Shape          \u001b[0m\u001b[1m \u001b[0m┃\u001b[1m \u001b[0m\u001b[1m      Param #\u001b[0m\u001b[1m \u001b[0m┃\n",
       "┡━━━━━━━━━━━━━━━━━━━━━━━━━━━━━━━━━╇━━━━━━━━━━━━━━━━━━━━━━━━╇━━━━━━━━━━━━━━━┩\n",
       "│ dense_16 (\u001b[38;5;33mDense\u001b[0m)                │ (\u001b[38;5;45mNone\u001b[0m, \u001b[38;5;34m119\u001b[0m)            │        \u001b[38;5;34m14,280\u001b[0m │\n",
       "├─────────────────────────────────┼────────────────────────┼───────────────┤\n",
       "│ dense_17 (\u001b[38;5;33mDense\u001b[0m)                │ (\u001b[38;5;45mNone\u001b[0m, \u001b[38;5;34m238\u001b[0m)            │        \u001b[38;5;34m28,560\u001b[0m │\n",
       "├─────────────────────────────────┼────────────────────────┼───────────────┤\n",
       "│ dense_18 (\u001b[38;5;33mDense\u001b[0m)                │ (\u001b[38;5;45mNone\u001b[0m, \u001b[38;5;34m238\u001b[0m)            │        \u001b[38;5;34m56,882\u001b[0m │\n",
       "├─────────────────────────────────┼────────────────────────┼───────────────┤\n",
       "│ dense_19 (\u001b[38;5;33mDense\u001b[0m)                │ (\u001b[38;5;45mNone\u001b[0m, \u001b[38;5;34m1\u001b[0m)              │           \u001b[38;5;34m239\u001b[0m │\n",
       "└─────────────────────────────────┴────────────────────────┴───────────────┘\n"
      ]
     },
     "metadata": {},
     "output_type": "display_data"
    },
    {
     "data": {
      "text/html": [
       "<pre style=\"white-space:pre;overflow-x:auto;line-height:normal;font-family:Menlo,'DejaVu Sans Mono',consolas,'Courier New',monospace\"><span style=\"font-weight: bold\"> Total params: </span><span style=\"color: #00af00; text-decoration-color: #00af00\">99,961</span> (390.47 KB)\n",
       "</pre>\n"
      ],
      "text/plain": [
       "\u001b[1m Total params: \u001b[0m\u001b[38;5;34m99,961\u001b[0m (390.47 KB)\n"
      ]
     },
     "metadata": {},
     "output_type": "display_data"
    },
    {
     "data": {
      "text/html": [
       "<pre style=\"white-space:pre;overflow-x:auto;line-height:normal;font-family:Menlo,'DejaVu Sans Mono',consolas,'Courier New',monospace\"><span style=\"font-weight: bold\"> Trainable params: </span><span style=\"color: #00af00; text-decoration-color: #00af00\">99,961</span> (390.47 KB)\n",
       "</pre>\n"
      ],
      "text/plain": [
       "\u001b[1m Trainable params: \u001b[0m\u001b[38;5;34m99,961\u001b[0m (390.47 KB)\n"
      ]
     },
     "metadata": {},
     "output_type": "display_data"
    },
    {
     "data": {
      "text/html": [
       "<pre style=\"white-space:pre;overflow-x:auto;line-height:normal;font-family:Menlo,'DejaVu Sans Mono',consolas,'Courier New',monospace\"><span style=\"font-weight: bold\"> Non-trainable params: </span><span style=\"color: #00af00; text-decoration-color: #00af00\">0</span> (0.00 B)\n",
       "</pre>\n"
      ],
      "text/plain": [
       "\u001b[1m Non-trainable params: \u001b[0m\u001b[38;5;34m0\u001b[0m (0.00 B)\n"
      ]
     },
     "metadata": {},
     "output_type": "display_data"
    }
   ],
   "source": [
    "\n",
    "# first we need to define the number of hidden nodes and input features\n",
    "# start with a shallow network and expand from there\n",
    "# I am going to start with the number of columns as the input features\n",
    "number_input_columns = X_train.shape[1]\n",
    "number_hidden_nodes = (X_train.shape[1]*2)\n",
    "\n",
    "# Create NN\n",
    "neural_network = Sequential()\n",
    "\n",
    "# create the input latter\n",
    "neural_network.add(Dense(units = number_input_columns, input_dim = number_input_columns, activation = \"tanh\", kernel_initializer='normal' ))\n",
    "# create hidden layer\n",
    "neural_network.add(Dense(units = number_hidden_nodes,  activation = \"tanh\", kernel_initializer='normal'))\n",
    "\n",
    "# 2nd hidden layer\n",
    "neural_network.add(Dense(units = number_hidden_nodes,  activation = \"tanh\", kernel_initializer='normal'))\n",
    "\n",
    "# create output layer\n",
    "neural_network.add(Dense(units = 1, activation = \"linear\", kernel_initializer='normal'))\n",
    "\n",
    "# complie the NN and we can see how many total parameters along with how many parameters are in each layer\n",
    "neural_network.compile(loss=\"mean_absolute_error\", optimizer=\"adam\", metrics=[\"mean_absolute_error\"])\n",
    "neural_network.summary()\n"
   ]
  },
  {
   "cell_type": "code",
   "execution_count": 92,
   "metadata": {},
   "outputs": [
    {
     "name": "stdout",
     "output_type": "stream",
     "text": [
      "Epoch 1/20\n",
      "\u001b[1m2654/2654\u001b[0m \u001b[32m━━━━━━━━━━━━━━━━━━━━\u001b[0m\u001b[37m\u001b[0m \u001b[1m9s\u001b[0m 3ms/step - loss: 0.0094 - mean_absolute_error: 0.0094 - val_loss: 0.0063 - val_mean_absolute_error: 0.0063\n",
      "Epoch 2/20\n",
      "\u001b[1m2654/2654\u001b[0m \u001b[32m━━━━━━━━━━━━━━━━━━━━\u001b[0m\u001b[37m\u001b[0m \u001b[1m7s\u001b[0m 3ms/step - loss: 0.0069 - mean_absolute_error: 0.0069 - val_loss: 0.0060 - val_mean_absolute_error: 0.0060\n",
      "Epoch 3/20\n",
      "\u001b[1m2654/2654\u001b[0m \u001b[32m━━━━━━━━━━━━━━━━━━━━\u001b[0m\u001b[37m\u001b[0m \u001b[1m8s\u001b[0m 3ms/step - loss: 0.0068 - mean_absolute_error: 0.0068 - val_loss: 0.0064 - val_mean_absolute_error: 0.0064\n",
      "Epoch 4/20\n",
      "\u001b[1m2654/2654\u001b[0m \u001b[32m━━━━━━━━━━━━━━━━━━━━\u001b[0m\u001b[37m\u001b[0m \u001b[1m7s\u001b[0m 3ms/step - loss: 0.0067 - mean_absolute_error: 0.0067 - val_loss: 0.0060 - val_mean_absolute_error: 0.0060\n",
      "Epoch 5/20\n",
      "\u001b[1m2654/2654\u001b[0m \u001b[32m━━━━━━━━━━━━━━━━━━━━\u001b[0m\u001b[37m\u001b[0m \u001b[1m8s\u001b[0m 3ms/step - loss: 0.0066 - mean_absolute_error: 0.0066 - val_loss: 0.0060 - val_mean_absolute_error: 0.0060\n",
      "Epoch 6/20\n",
      "\u001b[1m2654/2654\u001b[0m \u001b[32m━━━━━━━━━━━━━━━━━━━━\u001b[0m\u001b[37m\u001b[0m \u001b[1m7s\u001b[0m 3ms/step - loss: 0.0065 - mean_absolute_error: 0.0065 - val_loss: 0.0058 - val_mean_absolute_error: 0.0058\n",
      "Epoch 7/20\n",
      "\u001b[1m2654/2654\u001b[0m \u001b[32m━━━━━━━━━━━━━━━━━━━━\u001b[0m\u001b[37m\u001b[0m \u001b[1m7s\u001b[0m 3ms/step - loss: 0.0065 - mean_absolute_error: 0.0065 - val_loss: 0.0059 - val_mean_absolute_error: 0.0059\n",
      "Epoch 8/20\n",
      "\u001b[1m2654/2654\u001b[0m \u001b[32m━━━━━━━━━━━━━━━━━━━━\u001b[0m\u001b[37m\u001b[0m \u001b[1m7s\u001b[0m 3ms/step - loss: 0.0065 - mean_absolute_error: 0.0065 - val_loss: 0.0060 - val_mean_absolute_error: 0.0060\n",
      "Epoch 9/20\n",
      "\u001b[1m2654/2654\u001b[0m \u001b[32m━━━━━━━━━━━━━━━━━━━━\u001b[0m\u001b[37m\u001b[0m \u001b[1m7s\u001b[0m 3ms/step - loss: 0.0065 - mean_absolute_error: 0.0065 - val_loss: 0.0057 - val_mean_absolute_error: 0.0057\n",
      "Epoch 10/20\n",
      "\u001b[1m2654/2654\u001b[0m \u001b[32m━━━━━━━━━━━━━━━━━━━━\u001b[0m\u001b[37m\u001b[0m \u001b[1m7s\u001b[0m 3ms/step - loss: 0.0065 - mean_absolute_error: 0.0065 - val_loss: 0.0056 - val_mean_absolute_error: 0.0056\n",
      "Epoch 11/20\n",
      "\u001b[1m2654/2654\u001b[0m \u001b[32m━━━━━━━━━━━━━━━━━━━━\u001b[0m\u001b[37m\u001b[0m \u001b[1m8s\u001b[0m 3ms/step - loss: 0.0065 - mean_absolute_error: 0.0065 - val_loss: 0.0057 - val_mean_absolute_error: 0.0057\n",
      "Epoch 12/20\n",
      "\u001b[1m2654/2654\u001b[0m \u001b[32m━━━━━━━━━━━━━━━━━━━━\u001b[0m\u001b[37m\u001b[0m \u001b[1m8s\u001b[0m 3ms/step - loss: 0.0065 - mean_absolute_error: 0.0065 - val_loss: 0.0059 - val_mean_absolute_error: 0.0059\n",
      "Epoch 13/20\n",
      "\u001b[1m2654/2654\u001b[0m \u001b[32m━━━━━━━━━━━━━━━━━━━━\u001b[0m\u001b[37m\u001b[0m \u001b[1m8s\u001b[0m 3ms/step - loss: 0.0065 - mean_absolute_error: 0.0065 - val_loss: 0.0058 - val_mean_absolute_error: 0.0058\n",
      "Epoch 14/20\n",
      "\u001b[1m2654/2654\u001b[0m \u001b[32m━━━━━━━━━━━━━━━━━━━━\u001b[0m\u001b[37m\u001b[0m \u001b[1m8s\u001b[0m 3ms/step - loss: 0.0064 - mean_absolute_error: 0.0064 - val_loss: 0.0058 - val_mean_absolute_error: 0.0058\n",
      "Epoch 15/20\n",
      "\u001b[1m2654/2654\u001b[0m \u001b[32m━━━━━━━━━━━━━━━━━━━━\u001b[0m\u001b[37m\u001b[0m \u001b[1m10s\u001b[0m 4ms/step - loss: 0.0064 - mean_absolute_error: 0.0064 - val_loss: 0.0057 - val_mean_absolute_error: 0.0057\n",
      "Epoch 16/20\n",
      "\u001b[1m2654/2654\u001b[0m \u001b[32m━━━━━━━━━━━━━━━━━━━━\u001b[0m\u001b[37m\u001b[0m \u001b[1m10s\u001b[0m 4ms/step - loss: 0.0064 - mean_absolute_error: 0.0064 - val_loss: 0.0057 - val_mean_absolute_error: 0.0057\n",
      "Epoch 17/20\n",
      "\u001b[1m2654/2654\u001b[0m \u001b[32m━━━━━━━━━━━━━━━━━━━━\u001b[0m\u001b[37m\u001b[0m \u001b[1m14s\u001b[0m 5ms/step - loss: 0.0064 - mean_absolute_error: 0.0064 - val_loss: 0.0056 - val_mean_absolute_error: 0.0056\n",
      "Epoch 18/20\n",
      "\u001b[1m2654/2654\u001b[0m \u001b[32m━━━━━━━━━━━━━━━━━━━━\u001b[0m\u001b[37m\u001b[0m \u001b[1m9s\u001b[0m 3ms/step - loss: 0.0064 - mean_absolute_error: 0.0064 - val_loss: 0.0057 - val_mean_absolute_error: 0.0057\n",
      "Epoch 19/20\n",
      "\u001b[1m2654/2654\u001b[0m \u001b[32m━━━━━━━━━━━━━━━━━━━━\u001b[0m\u001b[37m\u001b[0m \u001b[1m8s\u001b[0m 3ms/step - loss: 0.0064 - mean_absolute_error: 0.0064 - val_loss: 0.0057 - val_mean_absolute_error: 0.0057\n",
      "Epoch 20/20\n",
      "\u001b[1m2654/2654\u001b[0m \u001b[32m━━━━━━━━━━━━━━━━━━━━\u001b[0m\u001b[37m\u001b[0m \u001b[1m9s\u001b[0m 3ms/step - loss: 0.0064 - mean_absolute_error: 0.0064 - val_loss: 0.0057 - val_mean_absolute_error: 0.0057\n"
     ]
    },
    {
     "data": {
      "image/png": "[encoded data removed]",
      "text/plain": [
       "<Figure size 640x480 with 1 Axes>"
      ]
     },
     "metadata": {},
     "output_type": "display_data"
    },
    {
     "name": "stdout",
     "output_type": "stream",
     "text": [
      "\u001b[1m220/220\u001b[0m \u001b[32m━━━━━━━━━━━━━━━━━━━━\u001b[0m\u001b[37m\u001b[0m \u001b[1m1s\u001b[0m 2ms/step - loss: 0.0129 - mean_absolute_error: 0.0129\n",
      "\u001b[1m220/220\u001b[0m \u001b[32m━━━━━━━━━━━━━━━━━━━━\u001b[0m\u001b[37m\u001b[0m \u001b[1m1s\u001b[0m 3ms/step\n"
     ]
    },
    {
     "data": {
      "text/html": [
       "<div>\n",
       "<style scoped>\n",
       "    .dataframe tbody tr th:only-of-type {\n",
       "        vertical-align: middle;\n",
       "    }\n",
       "\n",
       "    .dataframe tbody tr th {\n",
       "        vertical-align: top;\n",
       "    }\n",
       "\n",
       "    .dataframe thead th {\n",
       "        text-align: right;\n",
       "    }\n",
       "</style>\n",
       "<table border=\"1\" class=\"dataframe\">\n",
       "  <thead>\n",
       "    <tr style=\"text-align: right;\">\n",
       "      <th></th>\n",
       "      <th>Real</th>\n",
       "      <th>Predicted</th>\n",
       "    </tr>\n",
       "  </thead>\n",
       "  <tbody>\n",
       "    <tr>\n",
       "      <th>0</th>\n",
       "      <td>1100000.0</td>\n",
       "      <td>616988.875</td>\n",
       "    </tr>\n",
       "    <tr>\n",
       "      <th>1</th>\n",
       "      <td>3200000.0</td>\n",
       "      <td>1529501.000</td>\n",
       "    </tr>\n",
       "    <tr>\n",
       "      <th>2</th>\n",
       "      <td>5300000.0</td>\n",
       "      <td>2490268.000</td>\n",
       "    </tr>\n",
       "    <tr>\n",
       "      <th>3</th>\n",
       "      <td>1500000.0</td>\n",
       "      <td>3698176.750</td>\n",
       "    </tr>\n",
       "    <tr>\n",
       "      <th>4</th>\n",
       "      <td>1000000.0</td>\n",
       "      <td>2892253.750</td>\n",
       "    </tr>\n",
       "  </tbody>\n",
       "</table>\n",
       "</div>"
      ],
      "text/plain": [
       "        Real    Predicted\n",
       "0  1100000.0   616988.875\n",
       "1  3200000.0  1529501.000\n",
       "2  5300000.0  2490268.000\n",
       "3  1500000.0  3698176.750\n",
       "4  1000000.0  2892253.750"
      ]
     },
     "execution_count": 92,
     "metadata": {},
     "output_type": "execute_result"
    }
   ],
   "source": [
    "\n",
    "# Fit the model to the training sets\n",
    "nn_model = neural_network.fit(X_train_scaled, y_train_scaled,validation_split=0.2, epochs=20)\n",
    "\n",
    "# Train vs test for shallow net\n",
    "plt.plot(nn_model.history[\"loss\"])\n",
    "plt.plot(nn_model.history[\"val_loss\"])\n",
    "plt.title(\"loss_function - Training Vs. Validation - 2 hidden layers\")\n",
    "plt.legend([\"train\", \"validation\"])\n",
    "plt.show()\n",
    "plt.close()\n",
    "\n",
    "# evaluate the model\n",
    "neural_network.evaluate(X_test_scaled, y_test_scaled)\n",
    "\n",
    "# make predictions on X_test_scaled\n",
    "predictions = neural_network.predict(X_test_scaled)\n",
    "\n",
    "predicted_cost = y_scaler.inverse_transform(predictions)\n",
    "real_cost = y_scaler.inverse_transform(y_test_scaled.reshape(-1, 1))\n",
    "\n",
    "cost= pd.DataFrame({\n",
    "    \"Real\": real_cost.ravel(),\n",
    "    \"Predicted\":predicted_cost.ravel()\n",
    "})\n",
    "cost.head()"
   ]
  },
  {
   "cell_type": "code",
   "execution_count": 93,
   "metadata": {},
   "outputs": [
    {
     "name": "stdout",
     "output_type": "stream",
     "text": [
      "R2 Score:  0.1578008403567498\n"
     ]
    }
   ],
   "source": [
    "from sklearn.metrics import r2_score\n",
    "r2 = r2_score(real_cost.ravel() , predicted_cost.ravel())\n",
    "\n",
    "print('R2 Score: ',r2)"
   ]
  }
 ],
 "metadata": {
  "kernelspec": {
   "display_name": "base",
   "language": "python",
   "name": "python3"
  },
  "language_info": {
   "codemirror_mode": {
    "name": "ipython",
    "version": 3
   },
   "file_extension": ".py",
   "mimetype": "text/x-python",
   "name": "python",
   "nbconvert_exporter": "python",
   "pygments_lexer": "ipython3",
   "version": "3.11.7"
  }
 },
 "nbformat": 4,
 "nbformat_minor": 2
}
